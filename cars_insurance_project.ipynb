{
 "cells": [
  {
   "cell_type": "markdown",
   "id": "c3f0e974-faf8-458f-bf2a-06a469d0ea5e",
   "metadata": {},
   "source": [
    "<center><img src=\"car.jpg\" alt=\"Parked car\" width=\"400\" height=\"300\"></center>\n",
    "\n",
    "Insurance companies invest a lot of [time and money](https://www.accenture.com/_acnmedia/pdf-84/accenture-machine-leaning-insurance.pdf) into optimizing their pricing and accurately estimating the likelihood that customers will make a claim. In many countries insurance it is a legal requirement to have car insurance in order to drive a vehicle on public roads, so the market is very large!\n",
    "\n",
    "Knowing all of this, On the Road car insurance have requested your services in building a model to predict whether a customer will make a claim on their insurance during the policy period. As they have very little expertise and infrastructure for deploying and monitoring machine learning models, they've asked you to use simple Logistic Regression, identifying the single feature that results in the best performing model, as measured by accuracy.\n",
    "\n",
    "They have supplied you with their customer data as a csv file called `car_insurance.csv`, along with a table detailing the column names and descriptions below."
   ]
  },
  {
   "cell_type": "markdown",
   "id": "8928ffdf-25d6-4ad9-909f-0dd8d10b9a42",
   "metadata": {},
   "source": [
    "\n",
    "\n",
    "## The dataset\n",
    "\n",
    "| Column | Description |\n",
    "|--------|-------------|\n",
    "| `id` | Unique client identifier |\n",
    "| `age` | Client's age: <br> <ul><li>`0`: 16-15</li><li>`1`: 26-39</li><li>`2`: 40-64</li><li>`3`: 65+</li></ul> |\n",
    "| `gender` | Client's gender: <br> <ul><li>`0`: Female</li><li>`1`: Male</li></ul> |\n",
    "| `driving_experience` | Years the client has been driving: <br> <ul><li>`0`: 0-9</li><li>`1`: 10-19</li><li>`2`: 20-29</li><li>`3`: 30+</li></ul> |\n",
    "| `education` | Client's level of education: <br> <ul><li>`0`: No education</li><li>`1`: High school</li><li>`2`: University</li></ul> |\n",
    "| `income` | Client's income level: <br> <ul><li>`0`: Poverty</li><li>`1`: Working class</li><li>`2`: Middle class</li><li>`3`: Upper class</li></ul> |\n",
    "| `credit_score` | Client's credit score (between zero and one) |\n",
    "| `vehicle_ownership` | Client's vehicle ownership status: <br><ul><li>`0`: Does not own their vehilce (paying off finance)</li><li>`1`: Owns their vehicle</li></ul> |\n",
    "| `vehcile_year` | Year of vehicle registration: <br><ul><li>`0`: Before 2015</li><li>`1`: 2015 or later</li></ul> |\n",
    "| `married` | Client's marital status: <br><ul><li>`0`: Not married</li><li>`1`: Married</li></ul> |\n",
    "| `children` | Client's number of children |\n",
    "| `postal_code` | Client's postal code | \n",
    "| `annual_mileage` | Number of miles driven by the client each year |\n",
    "| `vehicle_type` | Type of car: <br> <ul><li>`0`: Sedan</li><li>`1`: Sports car</li></ul> |\n",
    "| `speeding_violations` | Total number of speeding violations received by the client | \n",
    "| `duis` | Number of times the client has been caught driving under the influence of alcohol |\n",
    "| `past_accidents` | Total number of previous accidents the client has been involved in |\n",
    "| `outcome` | Whether the client made a claim on their car insurance (response variable): <br><ul><li>`0`: No claim</li><li>`1`: Made a claim</li></ul> |"
   ]
  },
  {
   "cell_type": "code",
   "execution_count": 10,
   "id": "d0eb4f16-5a99-460d-a5ba-706b7ef0bbe7",
   "metadata": {
    "executionCancelledAt": null,
    "executionTime": 48,
    "id": "bA5ajAmk7XH6",
    "lastExecutedAt": 1687474498188,
    "lastScheduledRunId": null,
    "lastSuccessfullyExecutedCode": "# Import required modules\nimport pandas as pd\nimport numpy as np\nfrom statsmodels.formula.api import logit\n\n# load the data\ncars = pd.read_csv(\"car_insurance.csv\")\ncars.head()"
   },
   "outputs": [
    {
     "data": {
      "application/com.datacamp.data-table.v1+json": {
       "table": {
        "data": [
         {
          "age": 3,
          "annual_mileage": 12000,
          "children": 1,
          "credit_score": 0.6290273139,
          "driving_experience": "0-9y",
          "duis": 0,
          "education": "high school",
          "gender": 0,
          "id": 569520,
          "income": "upper class",
          "index": 0,
          "married": 0,
          "outcome": 0,
          "past_accidents": 0,
          "postal_code": 10238,
          "speeding_violations": 0,
          "vehicle_ownership": 1,
          "vehicle_type": "sedan",
          "vehicle_year": "after 2015"
         },
         {
          "age": 0,
          "annual_mileage": 16000,
          "children": 0,
          "credit_score": 0.357757117,
          "driving_experience": "0-9y",
          "duis": 0,
          "education": "none",
          "gender": 1,
          "id": 750365,
          "income": "poverty",
          "index": 1,
          "married": 0,
          "outcome": 1,
          "past_accidents": 0,
          "postal_code": 10238,
          "speeding_violations": 0,
          "vehicle_ownership": 0,
          "vehicle_type": "sedan",
          "vehicle_year": "before 2015"
         },
         {
          "age": 0,
          "annual_mileage": 11000,
          "children": 0,
          "credit_score": 0.4931457852,
          "driving_experience": "0-9y",
          "duis": 0,
          "education": "high school",
          "gender": 0,
          "id": 199901,
          "income": "working class",
          "index": 2,
          "married": 0,
          "outcome": 0,
          "past_accidents": 0,
          "postal_code": 10238,
          "speeding_violations": 0,
          "vehicle_ownership": 1,
          "vehicle_type": "sedan",
          "vehicle_year": "before 2015"
         },
         {
          "age": 0,
          "annual_mileage": 11000,
          "children": 1,
          "credit_score": 0.2060128507,
          "driving_experience": "0-9y",
          "duis": 0,
          "education": "university",
          "gender": 1,
          "id": 478866,
          "income": "working class",
          "index": 3,
          "married": 0,
          "outcome": 0,
          "past_accidents": 0,
          "postal_code": 32765,
          "speeding_violations": 0,
          "vehicle_ownership": 1,
          "vehicle_type": "sedan",
          "vehicle_year": "before 2015"
         },
         {
          "age": 1,
          "annual_mileage": 12000,
          "children": 0,
          "credit_score": 0.3883658882,
          "driving_experience": "10-19y",
          "duis": 0,
          "education": "none",
          "gender": 1,
          "id": 731664,
          "income": "working class",
          "index": 4,
          "married": 0,
          "outcome": 1,
          "past_accidents": 1,
          "postal_code": 32765,
          "speeding_violations": 2,
          "vehicle_ownership": 1,
          "vehicle_type": "sedan",
          "vehicle_year": "before 2015"
         }
        ],
        "schema": {
         "fields": [
          {
           "name": "index",
           "type": "integer"
          },
          {
           "name": "id",
           "type": "integer"
          },
          {
           "name": "age",
           "type": "integer"
          },
          {
           "name": "gender",
           "type": "integer"
          },
          {
           "name": "driving_experience",
           "type": "string"
          },
          {
           "name": "education",
           "type": "string"
          },
          {
           "name": "income",
           "type": "string"
          },
          {
           "name": "credit_score",
           "type": "number"
          },
          {
           "name": "vehicle_ownership",
           "type": "number"
          },
          {
           "name": "vehicle_year",
           "type": "string"
          },
          {
           "name": "married",
           "type": "number"
          },
          {
           "name": "children",
           "type": "number"
          },
          {
           "name": "postal_code",
           "type": "integer"
          },
          {
           "name": "annual_mileage",
           "type": "number"
          },
          {
           "name": "vehicle_type",
           "type": "string"
          },
          {
           "name": "speeding_violations",
           "type": "integer"
          },
          {
           "name": "duis",
           "type": "integer"
          },
          {
           "name": "past_accidents",
           "type": "integer"
          },
          {
           "name": "outcome",
           "type": "number"
          }
         ],
         "pandas_version": "1.4.0",
         "primaryKey": [
          "index"
         ]
        }
       },
       "total_rows": 5,
       "truncation_type": null
      },
      "text/html": [
       "<div>\n",
       "<style scoped>\n",
       "    .dataframe tbody tr th:only-of-type {\n",
       "        vertical-align: middle;\n",
       "    }\n",
       "\n",
       "    .dataframe tbody tr th {\n",
       "        vertical-align: top;\n",
       "    }\n",
       "\n",
       "    .dataframe thead th {\n",
       "        text-align: right;\n",
       "    }\n",
       "</style>\n",
       "<table border=\"1\" class=\"dataframe\">\n",
       "  <thead>\n",
       "    <tr style=\"text-align: right;\">\n",
       "      <th></th>\n",
       "      <th>id</th>\n",
       "      <th>age</th>\n",
       "      <th>gender</th>\n",
       "      <th>driving_experience</th>\n",
       "      <th>education</th>\n",
       "      <th>income</th>\n",
       "      <th>credit_score</th>\n",
       "      <th>vehicle_ownership</th>\n",
       "      <th>vehicle_year</th>\n",
       "      <th>married</th>\n",
       "      <th>children</th>\n",
       "      <th>postal_code</th>\n",
       "      <th>annual_mileage</th>\n",
       "      <th>vehicle_type</th>\n",
       "      <th>speeding_violations</th>\n",
       "      <th>duis</th>\n",
       "      <th>past_accidents</th>\n",
       "      <th>outcome</th>\n",
       "    </tr>\n",
       "  </thead>\n",
       "  <tbody>\n",
       "    <tr>\n",
       "      <th>0</th>\n",
       "      <td>569520</td>\n",
       "      <td>3</td>\n",
       "      <td>0</td>\n",
       "      <td>0-9y</td>\n",
       "      <td>high school</td>\n",
       "      <td>upper class</td>\n",
       "      <td>0.629027</td>\n",
       "      <td>1.0</td>\n",
       "      <td>after 2015</td>\n",
       "      <td>0.0</td>\n",
       "      <td>1.0</td>\n",
       "      <td>10238</td>\n",
       "      <td>12000.0</td>\n",
       "      <td>sedan</td>\n",
       "      <td>0</td>\n",
       "      <td>0</td>\n",
       "      <td>0</td>\n",
       "      <td>0.0</td>\n",
       "    </tr>\n",
       "    <tr>\n",
       "      <th>1</th>\n",
       "      <td>750365</td>\n",
       "      <td>0</td>\n",
       "      <td>1</td>\n",
       "      <td>0-9y</td>\n",
       "      <td>none</td>\n",
       "      <td>poverty</td>\n",
       "      <td>0.357757</td>\n",
       "      <td>0.0</td>\n",
       "      <td>before 2015</td>\n",
       "      <td>0.0</td>\n",
       "      <td>0.0</td>\n",
       "      <td>10238</td>\n",
       "      <td>16000.0</td>\n",
       "      <td>sedan</td>\n",
       "      <td>0</td>\n",
       "      <td>0</td>\n",
       "      <td>0</td>\n",
       "      <td>1.0</td>\n",
       "    </tr>\n",
       "    <tr>\n",
       "      <th>2</th>\n",
       "      <td>199901</td>\n",
       "      <td>0</td>\n",
       "      <td>0</td>\n",
       "      <td>0-9y</td>\n",
       "      <td>high school</td>\n",
       "      <td>working class</td>\n",
       "      <td>0.493146</td>\n",
       "      <td>1.0</td>\n",
       "      <td>before 2015</td>\n",
       "      <td>0.0</td>\n",
       "      <td>0.0</td>\n",
       "      <td>10238</td>\n",
       "      <td>11000.0</td>\n",
       "      <td>sedan</td>\n",
       "      <td>0</td>\n",
       "      <td>0</td>\n",
       "      <td>0</td>\n",
       "      <td>0.0</td>\n",
       "    </tr>\n",
       "    <tr>\n",
       "      <th>3</th>\n",
       "      <td>478866</td>\n",
       "      <td>0</td>\n",
       "      <td>1</td>\n",
       "      <td>0-9y</td>\n",
       "      <td>university</td>\n",
       "      <td>working class</td>\n",
       "      <td>0.206013</td>\n",
       "      <td>1.0</td>\n",
       "      <td>before 2015</td>\n",
       "      <td>0.0</td>\n",
       "      <td>1.0</td>\n",
       "      <td>32765</td>\n",
       "      <td>11000.0</td>\n",
       "      <td>sedan</td>\n",
       "      <td>0</td>\n",
       "      <td>0</td>\n",
       "      <td>0</td>\n",
       "      <td>0.0</td>\n",
       "    </tr>\n",
       "    <tr>\n",
       "      <th>4</th>\n",
       "      <td>731664</td>\n",
       "      <td>1</td>\n",
       "      <td>1</td>\n",
       "      <td>10-19y</td>\n",
       "      <td>none</td>\n",
       "      <td>working class</td>\n",
       "      <td>0.388366</td>\n",
       "      <td>1.0</td>\n",
       "      <td>before 2015</td>\n",
       "      <td>0.0</td>\n",
       "      <td>0.0</td>\n",
       "      <td>32765</td>\n",
       "      <td>12000.0</td>\n",
       "      <td>sedan</td>\n",
       "      <td>2</td>\n",
       "      <td>0</td>\n",
       "      <td>1</td>\n",
       "      <td>1.0</td>\n",
       "    </tr>\n",
       "  </tbody>\n",
       "</table>\n",
       "</div>"
      ],
      "text/plain": [
       "       id  age  gender  ... duis past_accidents outcome\n",
       "0  569520    3       0  ...    0              0     0.0\n",
       "1  750365    0       1  ...    0              0     1.0\n",
       "2  199901    0       0  ...    0              0     0.0\n",
       "3  478866    0       1  ...    0              0     0.0\n",
       "4  731664    1       1  ...    0              1     1.0\n",
       "\n",
       "[5 rows x 18 columns]"
      ]
     },
     "execution_count": 10,
     "metadata": {},
     "output_type": "execute_result"
    }
   ],
   "source": [
    "# Import required modules\n",
    "import pandas as pd\n",
    "import numpy as np\n",
    "from statsmodels.formula.api import logit\n",
    "\n",
    "# load the data\n",
    "cars = pd.read_csv(\"car_insurance.csv\")\n",
    "cars.head()"
   ]
  },
  {
   "cell_type": "code",
   "execution_count": 11,
   "id": "b8375248-6b47-4361-9871-cc97231337a6",
   "metadata": {
    "executionCancelledAt": null,
    "executionTime": 48,
    "lastExecutedAt": 1687474498236,
    "lastScheduledRunId": null,
    "lastSuccessfullyExecutedCode": "# check data information\ncars.info()"
   },
   "outputs": [
    {
     "name": "stdout",
     "output_type": "stream",
     "text": [
      "<class 'pandas.core.frame.DataFrame'>\n",
      "RangeIndex: 10000 entries, 0 to 9999\n",
      "Data columns (total 18 columns):\n",
      " #   Column               Non-Null Count  Dtype  \n",
      "---  ------               --------------  -----  \n",
      " 0   id                   10000 non-null  int64  \n",
      " 1   age                  10000 non-null  int64  \n",
      " 2   gender               10000 non-null  int64  \n",
      " 3   driving_experience   10000 non-null  object \n",
      " 4   education            10000 non-null  object \n",
      " 5   income               10000 non-null  object \n",
      " 6   credit_score         9018 non-null   float64\n",
      " 7   vehicle_ownership    10000 non-null  float64\n",
      " 8   vehicle_year         10000 non-null  object \n",
      " 9   married              10000 non-null  float64\n",
      " 10  children             10000 non-null  float64\n",
      " 11  postal_code          10000 non-null  int64  \n",
      " 12  annual_mileage       9043 non-null   float64\n",
      " 13  vehicle_type         10000 non-null  object \n",
      " 14  speeding_violations  10000 non-null  int64  \n",
      " 15  duis                 10000 non-null  int64  \n",
      " 16  past_accidents       10000 non-null  int64  \n",
      " 17  outcome              10000 non-null  float64\n",
      "dtypes: float64(6), int64(7), object(5)\n",
      "memory usage: 1.4+ MB\n"
     ]
    }
   ],
   "source": [
    "# check data information\n",
    "cars.info()"
   ]
  },
  {
   "cell_type": "code",
   "execution_count": 12,
   "id": "3ea21ca9-424f-4a18-80c2-f94ed0c254b0",
   "metadata": {
    "executionCancelledAt": null,
    "executionTime": 48,
    "lastExecutedAt": 1687474498284,
    "lastScheduledRunId": null,
    "lastSuccessfullyExecutedCode": "# check the missing values\ncars.isnull().sum()"
   },
   "outputs": [
    {
     "data": {
      "text/plain": [
       "id                       0\n",
       "age                      0\n",
       "gender                   0\n",
       "driving_experience       0\n",
       "education                0\n",
       "income                   0\n",
       "credit_score           982\n",
       "vehicle_ownership        0\n",
       "vehicle_year             0\n",
       "married                  0\n",
       "children                 0\n",
       "postal_code              0\n",
       "annual_mileage         957\n",
       "vehicle_type             0\n",
       "speeding_violations      0\n",
       "duis                     0\n",
       "past_accidents           0\n",
       "outcome                  0\n",
       "dtype: int64"
      ]
     },
     "execution_count": 12,
     "metadata": {},
     "output_type": "execute_result"
    }
   ],
   "source": [
    "# check the missing values\n",
    "cars.isnull().sum()"
   ]
  },
  {
   "cell_type": "code",
   "execution_count": 13,
   "id": "e358392e-ed92-4002-bb62-e98d78ee91cc",
   "metadata": {
    "executionCancelledAt": null,
    "executionTime": 48,
    "lastExecutedAt": 1687474498332,
    "lastScheduledRunId": null,
    "lastSuccessfullyExecutedCode": "# check distributions of numerical variables\ncars[['credit_score', 'annual_mileage']].describe()"
   },
   "outputs": [
    {
     "data": {
      "application/com.datacamp.data-table.v1+json": {
       "table": {
        "data": [
         {
          "annual_mileage": 9043,
          "credit_score": 9018,
          "index": "count"
         },
         {
          "annual_mileage": 11697.0032069004,
          "credit_score": 0.5158128096,
          "index": "mean"
         },
         {
          "annual_mileage": 2818.4345283018,
          "credit_score": 0.1376880893,
          "index": "std"
         },
         {
          "annual_mileage": 2000,
          "credit_score": 0.0533575455,
          "index": "min"
         },
         {
          "annual_mileage": 10000,
          "credit_score": 0.4171913163,
          "index": "25%"
         },
         {
          "annual_mileage": 12000,
          "credit_score": 0.5250327586,
          "index": "50%"
         },
         {
          "annual_mileage": 14000,
          "credit_score": 0.6183116647,
          "index": "75%"
         },
         {
          "annual_mileage": 22000,
          "credit_score": 0.9608188278,
          "index": "max"
         }
        ],
        "schema": {
         "fields": [
          {
           "name": "index",
           "type": "string"
          },
          {
           "name": "credit_score",
           "type": "number"
          },
          {
           "name": "annual_mileage",
           "type": "number"
          }
         ],
         "pandas_version": "1.4.0",
         "primaryKey": [
          "index"
         ]
        }
       },
       "total_rows": 8,
       "truncation_type": null
      },
      "text/html": [
       "<div>\n",
       "<style scoped>\n",
       "    .dataframe tbody tr th:only-of-type {\n",
       "        vertical-align: middle;\n",
       "    }\n",
       "\n",
       "    .dataframe tbody tr th {\n",
       "        vertical-align: top;\n",
       "    }\n",
       "\n",
       "    .dataframe thead th {\n",
       "        text-align: right;\n",
       "    }\n",
       "</style>\n",
       "<table border=\"1\" class=\"dataframe\">\n",
       "  <thead>\n",
       "    <tr style=\"text-align: right;\">\n",
       "      <th></th>\n",
       "      <th>credit_score</th>\n",
       "      <th>annual_mileage</th>\n",
       "    </tr>\n",
       "  </thead>\n",
       "  <tbody>\n",
       "    <tr>\n",
       "      <th>count</th>\n",
       "      <td>9018.000000</td>\n",
       "      <td>9043.000000</td>\n",
       "    </tr>\n",
       "    <tr>\n",
       "      <th>mean</th>\n",
       "      <td>0.515813</td>\n",
       "      <td>11697.003207</td>\n",
       "    </tr>\n",
       "    <tr>\n",
       "      <th>std</th>\n",
       "      <td>0.137688</td>\n",
       "      <td>2818.434528</td>\n",
       "    </tr>\n",
       "    <tr>\n",
       "      <th>min</th>\n",
       "      <td>0.053358</td>\n",
       "      <td>2000.000000</td>\n",
       "    </tr>\n",
       "    <tr>\n",
       "      <th>25%</th>\n",
       "      <td>0.417191</td>\n",
       "      <td>10000.000000</td>\n",
       "    </tr>\n",
       "    <tr>\n",
       "      <th>50%</th>\n",
       "      <td>0.525033</td>\n",
       "      <td>12000.000000</td>\n",
       "    </tr>\n",
       "    <tr>\n",
       "      <th>75%</th>\n",
       "      <td>0.618312</td>\n",
       "      <td>14000.000000</td>\n",
       "    </tr>\n",
       "    <tr>\n",
       "      <th>max</th>\n",
       "      <td>0.960819</td>\n",
       "      <td>22000.000000</td>\n",
       "    </tr>\n",
       "  </tbody>\n",
       "</table>\n",
       "</div>"
      ],
      "text/plain": [
       "       credit_score  annual_mileage\n",
       "count   9018.000000     9043.000000\n",
       "mean       0.515813    11697.003207\n",
       "std        0.137688     2818.434528\n",
       "min        0.053358     2000.000000\n",
       "25%        0.417191    10000.000000\n",
       "50%        0.525033    12000.000000\n",
       "75%        0.618312    14000.000000\n",
       "max        0.960819    22000.000000"
      ]
     },
     "execution_count": 13,
     "metadata": {},
     "output_type": "execute_result"
    }
   ],
   "source": [
    "# check distributions of numerical variables\n",
    "cars[['credit_score', 'annual_mileage']].describe()"
   ]
  },
  {
   "cell_type": "code",
   "execution_count": 14,
   "id": "44e1fb42-d289-4f20-a351-cdbcee7a5436",
   "metadata": {
    "executionCancelledAt": null,
    "executionTime": 51,
    "lastExecutedAt": 1687474498383,
    "lastScheduledRunId": null,
    "lastSuccessfullyExecutedCode": "# Fill missing values with the mean\ncars['credit_score'].fillna(cars['credit_score'].mean(), inplace = True)\ncars['annual_mileage'].fillna(cars['annual_mileage'].mean(), inplace = True)"
   },
   "outputs": [],
   "source": [
    "# Fill missing values with the mean\n",
    "cars['credit_score'].fillna(cars['credit_score'].mean(), inplace = True)\n",
    "cars['annual_mileage'].fillna(cars['annual_mileage'].mean(), inplace = True)"
   ]
  },
  {
   "cell_type": "code",
   "execution_count": 15,
   "id": "238dd870-871c-4172-9bae-bad11dbad19f",
   "metadata": {
    "executionCancelledAt": null,
    "executionTime": 52,
    "lastExecutedAt": 1687474498436,
    "lastScheduledRunId": null,
    "lastSuccessfullyExecutedCode": "# List to store model results\nmodels = []\n\n# Features columns\nfeatures = cars.drop(columns=[\"id\", \"outcome\"]).columns"
   },
   "outputs": [],
   "source": [
    "# List to store model results\n",
    "models = []\n",
    "\n",
    "# Features columns\n",
    "features = cars.drop(columns=[\"id\", \"outcome\"]).columns"
   ]
  },
  {
   "cell_type": "code",
   "execution_count": 16,
   "id": "25bea52f-1688-4c3c-9e0f-778851a6b3a7",
   "metadata": {
    "executionCancelledAt": null,
    "executionTime": 2023,
    "lastExecutedAt": 1687474500459,
    "lastScheduledRunId": null,
    "lastSuccessfullyExecutedCode": "# Loop through features\nfor col in features:\n    # Create a model\n    model = logit(f\"outcome ~ {col}\", data=cars).fit()\n    # Add each model to the models list\n    models.append(model)"
   },
   "outputs": [
    {
     "name": "stdout",
     "output_type": "stream",
     "text": [
      "Optimization terminated successfully.\n",
      "         Current function value: 0.511794\n",
      "         Iterations 6\n",
      "Optimization terminated successfully.\n",
      "         Current function value: 0.615951\n",
      "         Iterations 5\n",
      "Optimization terminated successfully.\n",
      "         Current function value: 0.467092\n",
      "         Iterations 8\n",
      "Optimization terminated successfully.\n",
      "         Current function value: 0.603742\n",
      "         Iterations 5\n",
      "Optimization terminated successfully.\n",
      "         Current function value: 0.531499\n",
      "         Iterations 6\n",
      "Optimization terminated successfully.\n",
      "         Current function value: 0.572557\n",
      "         Iterations 6\n",
      "Optimization terminated successfully.\n",
      "         Current function value: 0.552412\n",
      "         Iterations 5\n",
      "Optimization terminated successfully.\n",
      "         Current function value: 0.572668\n",
      "         Iterations 6\n",
      "Optimization terminated successfully.\n",
      "         Current function value: 0.586659\n",
      "         Iterations 5\n",
      "Optimization terminated successfully.\n",
      "         Current function value: 0.595431\n",
      "         Iterations 5\n",
      "Optimization terminated successfully.\n",
      "         Current function value: 0.617345\n",
      "         Iterations 5\n",
      "Optimization terminated successfully.\n",
      "         Current function value: 0.605716\n",
      "         Iterations 5\n",
      "Optimization terminated successfully.\n",
      "         Current function value: 0.621700\n",
      "         Iterations 5\n",
      "Optimization terminated successfully.\n",
      "         Current function value: 0.558922\n",
      "         Iterations 7\n",
      "Optimization terminated successfully.\n",
      "         Current function value: 0.598699\n",
      "         Iterations 6\n",
      "Optimization terminated successfully.\n",
      "         Current function value: 0.549220\n",
      "         Iterations 7\n"
     ]
    }
   ],
   "source": [
    "# Loop through features\n",
    "for col in features:\n",
    "    # Create a model\n",
    "    model = logit(f\"outcome ~ {col}\", data=cars).fit()\n",
    "    # Add each model to the models list\n",
    "    models.append(model)"
   ]
  },
  {
   "cell_type": "code",
   "execution_count": 17,
   "id": "0496b9be-9421-433e-a7d0-d4701d8873fa",
   "metadata": {
    "executionCancelledAt": null,
    "executionTime": 300,
    "lastExecutedAt": 1687474500759,
    "lastScheduledRunId": null,
    "lastSuccessfullyExecutedCode": "# Empty list to store accuracies\naccuracies = []\n\n# Loop through models\nfor f in range(0, len(models)):\n    # Compute the confusion matrix\n    conf_matrix = models[f].pred_table()\n    # True negatives\n    tn = conf_matrix[0,0]\n    # True positives\n    tp = conf_matrix[1,1]\n    # False negatives\n    fn = conf_matrix[1,0]\n    # False positives\n    fp = conf_matrix[0,1]\n    # Compute accuracy\n    acc = (tp + tn)/(tp + tn + fp + fn)\n    accuracies.append(acc)\n    \n# Feature with the largest accuracy\nbest_feature = features[accuracies.index(max(accuracies))]\n# Create best_feature data frame\nbest_feature_df = pd.DataFrame({\"best_feature\": best_feature,\n                               \"best_accuracy\": max(accuracies)}, index = [0])\n    "
   },
   "outputs": [],
   "source": [
    "# Empty list to store accuracies\n",
    "accuracies = []\n",
    "\n",
    "# Loop through models\n",
    "for f in range(0, len(models)):\n",
    "    # Compute the confusion matrix\n",
    "    conf_matrix = models[f].pred_table()\n",
    "    # True negatives\n",
    "    tn = conf_matrix[0,0]\n",
    "    # True positives\n",
    "    tp = conf_matrix[1,1]\n",
    "    # False negatives\n",
    "    fn = conf_matrix[1,0]\n",
    "    # False positives\n",
    "    fp = conf_matrix[0,1]\n",
    "    # Compute accuracy\n",
    "    acc = (tp + tn)/(tp + tn + fp + fn)\n",
    "    accuracies.append(acc)\n",
    "    \n",
    "# Feature with the largest accuracy\n",
    "best_feature = features[accuracies.index(max(accuracies))]\n",
    "# Create best_feature data frame\n",
    "best_feature_df = pd.DataFrame({\"best_feature\": best_feature,\n",
    "                               \"best_accuracy\": max(accuracies)}, index = [0])\n",
    "    "
   ]
  },
  {
   "cell_type": "code",
   "execution_count": 18,
   "id": "5813fc5f-f7d2-453e-ada9-49ea9a4f2b81",
   "metadata": {
    "executionCancelledAt": null,
    "executionTime": 52,
    "lastExecutedAt": 1687474500812,
    "lastScheduledRunId": null,
    "lastSuccessfullyExecutedCode": "best_feature_df"
   },
   "outputs": [
    {
     "data": {
      "application/com.datacamp.data-table.v1+json": {
       "table": {
        "data": [
         {
          "best_accuracy": 0.7771,
          "best_feature": "driving_experience",
          "index": 0
         }
        ],
        "schema": {
         "fields": [
          {
           "name": "index",
           "type": "integer"
          },
          {
           "name": "best_feature",
           "type": "string"
          },
          {
           "name": "best_accuracy",
           "type": "number"
          }
         ],
         "pandas_version": "1.4.0",
         "primaryKey": [
          "index"
         ]
        }
       },
       "total_rows": 1,
       "truncation_type": null
      },
      "text/html": [
       "<div>\n",
       "<style scoped>\n",
       "    .dataframe tbody tr th:only-of-type {\n",
       "        vertical-align: middle;\n",
       "    }\n",
       "\n",
       "    .dataframe tbody tr th {\n",
       "        vertical-align: top;\n",
       "    }\n",
       "\n",
       "    .dataframe thead th {\n",
       "        text-align: right;\n",
       "    }\n",
       "</style>\n",
       "<table border=\"1\" class=\"dataframe\">\n",
       "  <thead>\n",
       "    <tr style=\"text-align: right;\">\n",
       "      <th></th>\n",
       "      <th>best_feature</th>\n",
       "      <th>best_accuracy</th>\n",
       "    </tr>\n",
       "  </thead>\n",
       "  <tbody>\n",
       "    <tr>\n",
       "      <th>0</th>\n",
       "      <td>driving_experience</td>\n",
       "      <td>0.7771</td>\n",
       "    </tr>\n",
       "  </tbody>\n",
       "</table>\n",
       "</div>"
      ],
      "text/plain": [
       "         best_feature  best_accuracy\n",
       "0  driving_experience         0.7771"
      ]
     },
     "execution_count": 18,
     "metadata": {},
     "output_type": "execute_result"
    }
   ],
   "source": [
    "best_feature_df"
   ]
  }
 ],
 "metadata": {
  "colab": {
   "name": "Welcome to DataCamp Workspaces.ipynb",
   "provenance": []
  },
  "editor": "DataCamp Workspace",
  "kernelspec": {
   "display_name": "Python 3 (ipykernel)",
   "language": "python",
   "name": "python3"
  },
  "language_info": {
   "codemirror_mode": {
    "name": "ipython",
    "version": 3
   },
   "file_extension": ".py",
   "mimetype": "text/x-python",
   "name": "python",
   "nbconvert_exporter": "python",
   "pygments_lexer": "ipython3",
   "version": "3.9.7"
  },
  "vscode": {
   "interpreter": {
    "hash": "aee8b7b246df8f9039afb4144a1f6fd8d2ca17a180786b69acc140d282b71a49"
   }
  }
 },
 "nbformat": 4,
 "nbformat_minor": 5
}
